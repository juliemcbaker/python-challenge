{
 "metadata": {
  "language_info": {
   "codemirror_mode": {
    "name": "ipython",
    "version": 3
   },
   "file_extension": ".py",
   "mimetype": "text/x-python",
   "name": "python",
   "nbconvert_exporter": "python",
   "pygments_lexer": "ipython3",
   "version": "3.9.1"
  },
  "orig_nbformat": 2,
  "kernelspec": {
   "name": "python391jvsc74a57bd0aee8b7b246df8f9039afb4144a1f6fd8d2ca17a180786b69acc140d282b71a49",
   "display_name": "Python 3.9.1 64-bit"
  },
  "metadata": {
   "interpreter": {
    "hash": "aee8b7b246df8f9039afb4144a1f6fd8d2ca17a180786b69acc140d282b71a49"
   }
  }
 },
 "nbformat": 4,
 "nbformat_minor": 2,
 "cells": [
  {
   "cell_type": "code",
   "execution_count": 68,
   "metadata": {},
   "outputs": [],
   "source": [
    "#PyBank Assignment\n",
    "#Julie Baker\n",
    "#May 2021"
   ]
  },
  {
   "cell_type": "code",
   "execution_count": 69,
   "metadata": {},
   "outputs": [],
   "source": [
    "import os\n",
    "import csv\n",
    "import operator"
   ]
  },
  {
   "cell_type": "code",
   "execution_count": 70,
   "metadata": {},
   "outputs": [],
   "source": [
    "# need to read in PyBank/Resources/budget_data.csv\n",
    "# DO NOT USE \"PyBank\" IN JUPYTER NOTEBOOK, but need it in main.py\n",
    "budget_csv = os.path.join(os.getcwd(), \"Resources\", \"budget_data.csv\")\n",
    "# creating a filepath for a second file that sets different headers \n",
    "budget_working = os.path.join(os.getcwd(), \"Resources\", \"budget_working.csv\")\n"
   ]
  },
  {
   "cell_type": "code",
   "execution_count": 65,
   "metadata": {},
   "outputs": [
    {
     "output_type": "stream",
     "name": "stdout",
     "text": [
      "{'Date': 'Jan-2010', 'Profit/Losses': '867884'}\n{'Date': 'Feb-2010', 'Profit/Losses': '984655'}\n{'Date': 'Mar-2010', 'Profit/Losses': '322013'}\n{'Date': 'Apr-2010', 'Profit/Losses': '-69417'}\n{'Date': 'May-2010', 'Profit/Losses': '310503'}\n{'Date': 'Jun-2010', 'Profit/Losses': '522857'}\n{'Date': 'Jul-2010', 'Profit/Losses': '1033096'}\n{'Date': 'Aug-2010', 'Profit/Losses': '604885'}\n{'Date': 'Sep-2010', 'Profit/Losses': '-216386'}\n{'Date': 'Oct-2010', 'Profit/Losses': '477532'}\n{'Date': 'Nov-2010', 'Profit/Losses': '893810'}\n{'Date': 'Dec-2010', 'Profit/Losses': '-80353'}\n{'Date': 'Jan-2011', 'Profit/Losses': '779806'}\n{'Date': 'Feb-2011', 'Profit/Losses': '-335203'}\n{'Date': 'Mar-2011', 'Profit/Losses': '697845'}\n{'Date': 'Apr-2011', 'Profit/Losses': '793163'}\n{'Date': 'May-2011', 'Profit/Losses': '485070'}\n{'Date': 'Jun-2011', 'Profit/Losses': '584122'}\n{'Date': 'Jul-2011', 'Profit/Losses': '62729'}\n{'Date': 'Aug-2011', 'Profit/Losses': '668179'}\n{'Date': 'Sep-2011', 'Profit/Losses': '899906'}\n{'Date': 'Oct-2011', 'Profit/Losses': '834719'}\n{'Date': 'Nov-2011', 'Profit/Losses': '132003'}\n{'Date': 'Dec-2011', 'Profit/Losses': '309978'}\n{'Date': 'Jan-2012', 'Profit/Losses': '-755566'}\n{'Date': 'Feb-2012', 'Profit/Losses': '1170593'}\n{'Date': 'Mar-2012', 'Profit/Losses': '252788'}\n{'Date': 'Apr-2012', 'Profit/Losses': '1151518'}\n{'Date': 'May-2012', 'Profit/Losses': '817256'}\n{'Date': 'Jun-2012', 'Profit/Losses': '570757'}\n{'Date': 'Jul-2012', 'Profit/Losses': '506702'}\n{'Date': 'Aug-2012', 'Profit/Losses': '-1022534'}\n{'Date': 'Sep-2012', 'Profit/Losses': '475062'}\n{'Date': 'Oct-2012', 'Profit/Losses': '779976'}\n{'Date': 'Nov-2012', 'Profit/Losses': '144175'}\n{'Date': 'Dec-2012', 'Profit/Losses': '542494'}\n{'Date': 'Jan-2013', 'Profit/Losses': '359333'}\n{'Date': 'Feb-2013', 'Profit/Losses': '321469'}\n{'Date': 'Mar-2013', 'Profit/Losses': '67780'}\n{'Date': 'Apr-2013', 'Profit/Losses': '471435'}\n{'Date': 'May-2013', 'Profit/Losses': '565603'}\n{'Date': 'Jun-2013', 'Profit/Losses': '872480'}\n{'Date': 'Jul-2013', 'Profit/Losses': '789480'}\n{'Date': 'Aug-2013', 'Profit/Losses': '999942'}\n{'Date': 'Sep-2013', 'Profit/Losses': '-1196225'}\n{'Date': 'Oct-2013', 'Profit/Losses': '268997'}\n{'Date': 'Nov-2013', 'Profit/Losses': '-687986'}\n{'Date': 'Dec-2013', 'Profit/Losses': '1150461'}\n{'Date': 'Jan-2014', 'Profit/Losses': '682458'}\n{'Date': 'Feb-2014', 'Profit/Losses': '617856'}\n{'Date': 'Mar-2014', 'Profit/Losses': '824098'}\n{'Date': 'Apr-2014', 'Profit/Losses': '581943'}\n{'Date': 'May-2014', 'Profit/Losses': '132864'}\n{'Date': 'Jun-2014', 'Profit/Losses': '448062'}\n{'Date': 'Jul-2014', 'Profit/Losses': '689161'}\n{'Date': 'Aug-2014', 'Profit/Losses': '800701'}\n{'Date': 'Sep-2014', 'Profit/Losses': '1166643'}\n{'Date': 'Oct-2014', 'Profit/Losses': '947333'}\n{'Date': 'Nov-2014', 'Profit/Losses': '578668'}\n{'Date': 'Dec-2014', 'Profit/Losses': '988505'}\n{'Date': 'Jan-2015', 'Profit/Losses': '1139715'}\n{'Date': 'Feb-2015', 'Profit/Losses': '1029471'}\n{'Date': 'Mar-2015', 'Profit/Losses': '687533'}\n{'Date': 'Apr-2015', 'Profit/Losses': '-524626'}\n{'Date': 'May-2015', 'Profit/Losses': '158620'}\n{'Date': 'Jun-2015', 'Profit/Losses': '87795'}\n{'Date': 'Jul-2015', 'Profit/Losses': '423389'}\n{'Date': 'Aug-2015', 'Profit/Losses': '840723'}\n{'Date': 'Sep-2015', 'Profit/Losses': '568529'}\n{'Date': 'Oct-2015', 'Profit/Losses': '332067'}\n{'Date': 'Nov-2015', 'Profit/Losses': '989499'}\n{'Date': 'Dec-2015', 'Profit/Losses': '778237'}\n{'Date': 'Jan-2016', 'Profit/Losses': '650000'}\n{'Date': 'Feb-2016', 'Profit/Losses': '-1100387'}\n{'Date': 'Mar-2016', 'Profit/Losses': '-174946'}\n{'Date': 'Apr-2016', 'Profit/Losses': '757143'}\n{'Date': 'May-2016', 'Profit/Losses': '445709'}\n{'Date': 'Jun-2016', 'Profit/Losses': '712961'}\n{'Date': 'Jul-2016', 'Profit/Losses': '-1163797'}\n{'Date': 'Aug-2016', 'Profit/Losses': '569899'}\n{'Date': 'Sep-2016', 'Profit/Losses': '768450'}\n{'Date': 'Oct-2016', 'Profit/Losses': '102685'}\n{'Date': 'Nov-2016', 'Profit/Losses': '795914'}\n{'Date': 'Dec-2016', 'Profit/Losses': '60988'}\n{'Date': 'Jan-2017', 'Profit/Losses': '138230'}\n{'Date': 'Feb-2017', 'Profit/Losses': '671099'}\n"
     ]
    }
   ],
   "source": [
    "with open(budget_csv) as csv_file:            \n",
    "    csv_reader = csv.reader(csv_file, delimiter = ',')\n",
    "    dummy = csv.DictReader(csv_file, delimiter = ',')\n",
    "    months = -1     # start with 0 if iterating from dictionary; start with -1 if iterating from std \n",
    "    net_total = 0\n",
    "\n",
    "    # this is the one converted to dictionary\n",
    "    for row in dummy:\n",
    "        print(row)\n",
    "        # counts number of months\n",
    "        months = months + 1\n",
    "        # calculates overall profit/loss for entire period\n",
    "        net_total = float(row['Profit/Losses']) + net_total\n"
   ]
  },
  {
   "cell_type": "code",
   "execution_count": 41,
   "metadata": {},
   "outputs": [
    {
     "output_type": "stream",
     "name": "stdout",
     "text": [
      "['Date', 'Profit/Losses']\n['Jan-2010', '867884']\n['Feb-2010', '984655']\n['Mar-2010', '322013']\n['Apr-2010', '-69417']\n['May-2010', '310503']\n['Jun-2010', '522857']\n['Jul-2010', '1033096']\n['Aug-2010', '604885']\n['Sep-2010', '-216386']\n['Oct-2010', '477532']\n['Nov-2010', '893810']\n['Dec-2010', '-80353']\n['Jan-2011', '779806']\n['Feb-2011', '-335203']\n['Mar-2011', '697845']\n['Apr-2011', '793163']\n['May-2011', '485070']\n['Jun-2011', '584122']\n['Jul-2011', '62729']\n['Aug-2011', '668179']\n['Sep-2011', '899906']\n['Oct-2011', '834719']\n['Nov-2011', '132003']\n['Dec-2011', '309978']\n['Jan-2012', '-755566']\n['Feb-2012', '1170593']\n['Mar-2012', '252788']\n['Apr-2012', '1151518']\n['May-2012', '817256']\n['Jun-2012', '570757']\n['Jul-2012', '506702']\n['Aug-2012', '-1022534']\n['Sep-2012', '475062']\n['Oct-2012', '779976']\n['Nov-2012', '144175']\n['Dec-2012', '542494']\n['Jan-2013', '359333']\n['Feb-2013', '321469']\n['Mar-2013', '67780']\n['Apr-2013', '471435']\n['May-2013', '565603']\n['Jun-2013', '872480']\n['Jul-2013', '789480']\n['Aug-2013', '999942']\n['Sep-2013', '-1196225']\n['Oct-2013', '268997']\n['Nov-2013', '-687986']\n['Dec-2013', '1150461']\n['Jan-2014', '682458']\n['Feb-2014', '617856']\n['Mar-2014', '824098']\n['Apr-2014', '581943']\n['May-2014', '132864']\n['Jun-2014', '448062']\n['Jul-2014', '689161']\n['Aug-2014', '800701']\n['Sep-2014', '1166643']\n['Oct-2014', '947333']\n['Nov-2014', '578668']\n['Dec-2014', '988505']\n['Jan-2015', '1139715']\n['Feb-2015', '1029471']\n['Mar-2015', '687533']\n['Apr-2015', '-524626']\n['May-2015', '158620']\n['Jun-2015', '87795']\n['Jul-2015', '423389']\n['Aug-2015', '840723']\n['Sep-2015', '568529']\n['Oct-2015', '332067']\n['Nov-2015', '989499']\n['Dec-2015', '778237']\n['Jan-2016', '650000']\n['Feb-2016', '-1100387']\n['Mar-2016', '-174946']\n['Apr-2016', '757143']\n['May-2016', '445709']\n['Jun-2016', '712961']\n['Jul-2016', '-1163797']\n['Aug-2016', '569899']\n['Sep-2016', '768450']\n['Oct-2016', '102685']\n['Nov-2016', '795914']\n['Dec-2016', '60988']\n['Jan-2017', '138230']\n['Feb-2017', '671099']\n86\n"
     ]
    }
   ],
   "source": [
    "    # just using standard csv rather than dictionary item\n",
    "    months = -1\n",
    "    with open(budget_csv) as csv_file:            \n",
    "        csv_reader = csv.reader(csv_file, delimiter = ',')\n",
    "        for row in csv_reader:\n",
    "            print(row)\n",
    "            # counts number of months\n",
    "            months = months + 1\n",
    "        print(months)\n",
    "            # calculates overall profit/loss for entire period\n",
    "            #net_total = float(row[1]) + net_total\n"
   ]
  },
  {
   "cell_type": "code",
   "execution_count": 67,
   "metadata": {},
   "outputs": [
    {
     "output_type": "error",
     "ename": "TypeError",
     "evalue": "float expected at most 1 argument, got 2",
     "traceback": [
      "\u001b[0;31m---------------------------------------------------------------------------\u001b[0m",
      "\u001b[0;31mTypeError\u001b[0m                                 Traceback (most recent call last)",
      "\u001b[0;32m<ipython-input-67-cb94b5a70b28>\u001b[0m in \u001b[0;36m<module>\u001b[0;34m\u001b[0m\n\u001b[1;32m      4\u001b[0m \u001b[0mlowest_month\u001b[0m \u001b[0;34m=\u001b[0m \u001b[0;34m\"julie\"\u001b[0m\u001b[0;34m\u001b[0m\u001b[0;34m\u001b[0m\u001b[0m\n\u001b[1;32m      5\u001b[0m \u001b[0;32mfor\u001b[0m \u001b[0mrow\u001b[0m \u001b[0;32min\u001b[0m \u001b[0mrange\u001b[0m \u001b[0;34m(\u001b[0m\u001b[0;36m2\u001b[0m\u001b[0;34m,\u001b[0m \u001b[0mmonths\u001b[0m\u001b[0;34m)\u001b[0m\u001b[0;34m:\u001b[0m\u001b[0;34m\u001b[0m\u001b[0;34m\u001b[0m\u001b[0m\n\u001b[0;32m----> 6\u001b[0;31m     \u001b[0;32mif\u001b[0m \u001b[0mfloat\u001b[0m\u001b[0;34m(\u001b[0m\u001b[0;34m\"Profit/Losses\"\u001b[0m\u001b[0;34m,\u001b[0m\u001b[0;34m(\u001b[0m\u001b[0;36m1\u001b[0m\u001b[0;34m)\u001b[0m\u001b[0;34m)\u001b[0m \u001b[0;34m>\u001b[0m \u001b[0mhighest_value\u001b[0m\u001b[0;34m:\u001b[0m\u001b[0;34m\u001b[0m\u001b[0;34m\u001b[0m\u001b[0m\n\u001b[0m\u001b[1;32m      7\u001b[0m         \u001b[0mhighest_value\u001b[0m \u001b[0;34m=\u001b[0m \u001b[0mfloat\u001b[0m\u001b[0;34m(\u001b[0m\u001b[0;34m'Profit/Losses'\u001b[0m\u001b[0;34m,\u001b[0m\u001b[0;34m(\u001b[0m\u001b[0;36m1\u001b[0m\u001b[0;34m)\u001b[0m\u001b[0;34m)\u001b[0m\u001b[0;34m\u001b[0m\u001b[0;34m\u001b[0m\u001b[0m\n\u001b[1;32m      8\u001b[0m         \u001b[0mhighest_month\u001b[0m \u001b[0;34m=\u001b[0m \u001b[0;34m(\u001b[0m\u001b[0mrow\u001b[0m\u001b[0;34m[\u001b[0m\u001b[0;36m0\u001b[0m\u001b[0;34m]\u001b[0m\u001b[0;34m)\u001b[0m\u001b[0;34m\u001b[0m\u001b[0;34m\u001b[0m\u001b[0m\n",
      "\u001b[0;31mTypeError\u001b[0m: float expected at most 1 argument, got 2"
     ]
    }
   ],
   "source": [
    "    # Loop is executing, but it's always iterating to the last month\n",
    "    highest_value = 0\n",
    "    lowest_value = 0\n",
    "    lowest_month = \"julie\"\n",
    "    for row in range (2, months):\n",
    "        if float(\"Profit/Losses\"(1)) > highest_value:\n",
    "            highest_value = float('Profit/Losses',(1))\n",
    "            highest_month = (row[0])\n",
    "        elif row[1] < lowest_value:\n",
    "            lowest_value = float(row[1])\n",
    "            lowest_month = (row[0])\n",
    "        else:\n",
    "            next\n",
    "\n",
    "    print(highest_value)\n",
    "    print(highest_month)\n",
    "    print(lowest_value)\n",
    "    print(lowest_month)\n",
    "\n",
    "  #      for i in range (months):\n",
    "   #     if float (row['Profit/Losses']) > highest_value:\n",
    "    #        highest_value = float(row['Profit/Losses'])\n",
    "     #       highest_month = (['Date'])\n",
    "      #  elif float(row['Profit/Losses']) < lowest_value:\n",
    "       #     lowest_value = float(row['Profit/Losses'])\n",
    "        #    lowest_month = (row['Date'])\n",
    " #       else:\n",
    "  #          next"
   ]
  },
  {
   "cell_type": "code",
   "execution_count": 61,
   "metadata": {},
   "outputs": [
    {
     "output_type": "error",
     "ename": "ValueError",
     "evalue": "I/O operation on closed file.",
     "traceback": [
      "\u001b[0;31m---------------------------------------------------------------------------\u001b[0m",
      "\u001b[0;31mValueError\u001b[0m                                Traceback (most recent call last)",
      "\u001b[0;32m<ipython-input-61-7be7869222e4>\u001b[0m in \u001b[0;36m<module>\u001b[0;34m\u001b[0m\n\u001b[1;32m      2\u001b[0m \u001b[0;32mwith\u001b[0m \u001b[0mopen\u001b[0m\u001b[0;34m(\u001b[0m\u001b[0mbudget_working\u001b[0m\u001b[0;34m,\u001b[0m \u001b[0mmode\u001b[0m\u001b[0;34m=\u001b[0m\u001b[0;34m'w'\u001b[0m\u001b[0;34m)\u001b[0m \u001b[0;32mas\u001b[0m \u001b[0moutfile\u001b[0m\u001b[0;34m:\u001b[0m\u001b[0;34m\u001b[0m\u001b[0;34m\u001b[0m\u001b[0m\n\u001b[1;32m      3\u001b[0m     \u001b[0mwriter\u001b[0m \u001b[0;34m=\u001b[0m \u001b[0mcsv\u001b[0m\u001b[0;34m.\u001b[0m\u001b[0mwriter\u001b[0m\u001b[0;34m(\u001b[0m\u001b[0moutfile\u001b[0m\u001b[0;34m)\u001b[0m\u001b[0;34m\u001b[0m\u001b[0;34m\u001b[0m\u001b[0m\n\u001b[0;32m----> 4\u001b[0;31m     \u001b[0;32mfor\u001b[0m \u001b[0mrow\u001b[0m \u001b[0;32min\u001b[0m \u001b[0mcsv_reader\u001b[0m\u001b[0;34m:\u001b[0m\u001b[0;34m\u001b[0m\u001b[0;34m\u001b[0m\u001b[0m\n\u001b[0m\u001b[1;32m      5\u001b[0m         \u001b[0mnewHeader\u001b[0m \u001b[0;34m=\u001b[0m \u001b[0mcsv\u001b[0m\u001b[0;34m.\u001b[0m\u001b[0mwriter\u001b[0m\u001b[0;34m(\u001b[0m\u001b[0moutfile\u001b[0m\u001b[0;34m)\u001b[0m\u001b[0;34m\u001b[0m\u001b[0;34m\u001b[0m\u001b[0m\n\u001b[1;32m      6\u001b[0m         \u001b[0mnewFN\u001b[0m \u001b[0;34m=\u001b[0m \u001b[0;34m[\u001b[0m\u001b[0;34m'Date'\u001b[0m\u001b[0;34m,\u001b[0m \u001b[0;34m'Up_Down'\u001b[0m\u001b[0;34m]\u001b[0m\u001b[0;34m\u001b[0m\u001b[0;34m\u001b[0m\u001b[0m\n",
      "\u001b[0;31mValueError\u001b[0m: I/O operation on closed file."
     ]
    }
   ],
   "source": [
    "    # this is the standard csv; trying based on stackoverflow to change the header\n",
    "    with open(budget_working, mode='w') as outfile:\n",
    "        writer = csv.writer(outfile)\n",
    "        for row in csv_reader:\n",
    "            newHeader = csv.writer(outfile)\n",
    "            newFN = ['Date', 'Up_Down']\n",
    "            newHeader.writerow(newFN)\n",
    "            print(row)\n"
   ]
  },
  {
   "cell_type": "code",
   "execution_count": null,
   "metadata": {},
   "outputs": [],
   "source": []
  }
 ]
}